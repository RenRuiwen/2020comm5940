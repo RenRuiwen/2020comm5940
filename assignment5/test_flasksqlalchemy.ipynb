{
 "cells": [
  {
   "cell_type": "code",
   "execution_count": 1,
   "metadata": {},
   "outputs": [],
   "source": [
    "import pymysql\n",
    "pymysql.install_as_MySQLdb()"
   ]
  },
  {
   "cell_type": "code",
   "execution_count": 2,
   "metadata": {},
   "outputs": [],
   "source": [
    "from trip_model import *"
   ]
  },
  {
   "cell_type": "code",
   "execution_count": 3,
   "metadata": {
    "scrolled": true
   },
   "outputs": [
    {
     "name": "stdout",
     "output_type": "stream",
     "text": [
      "(1, 'HOKKAIDO Cherry Blossom Spots', 'Matsumae Park', 'Matsushiro, Matsumae-cho, Hokkaido', 'Early to mid May')\n",
      "(2, 'HOKKAIDO/TOHOKU Cherry Blossom Spots', 'Goryokaku Park', '44 Goryokaku-cho, Hakodate-shi, Hokkaido ', 'Early May')\n",
      "(3, 'HOKKAIDO/TOHOKU Cherry Blossom Spots', 'Hirosaki Park', '1 Shimoshirogane-cho, Hirosaki-shi, Aomori  ', 'Late April to early May')\n",
      "(4, 'HOKKAIDO/TOHOKU Cherry Blossom Spots', 'Prefectural Natural Park group Ashino Pond', 'Goshogawara-shi Aomori, Hirosaki-shi Aomori  ', 'Late April to early May')\n",
      "(5, 'HOKKAIDO/TOHOKU Cherry Blossom Spots', 'Tateno Park', 'Inuotose, Rokunohe-machi Kamikita-gun ', 'Late April to early May')\n",
      "(6, 'HOKKAIDO/TOHOKU Cherry Blossom Spots', 'Iwate Park/Takamatsu Park', '1-26-1, Takamatsu, Morioka-shi, Iwate  ', 'Late April')\n",
      "(7, 'HOKKAIDO/TOHOKU Cherry Blossom Spots', 'Kitakami Tenshochi', 'Tachibana, Kitakami-shi, Iwate,  ', 'Late April')\n",
      "(8, 'HOKKAIDO/TOHOKU Cherry Blossom Spots', 'Shiroishi Castle', '1-16 Masuoka-cho, Shiroishi-shi, Miyagi  ', 'Mid to late April')\n",
      "(9, 'HOKKAIDO/TOHOKU Cherry Blossom Spots', 'Tsuruoka Park', 'Babacho, Tsuruoka-shi, Yamagata  ', 'mid-April')\n",
      "(10, 'HOKKAIDO/TOHOKU Cherry Blossom Spots', 'Eboshi Hill Park', 'Akayu, Nanyo-shi, Yamagata  ', 'Late April')\n",
      "(11, 'HOKKAIDO/TOHOKU Cherry Blossom Spots', 'Tsurugajo Park', '1-1 Outemachi, Aizuwakamatsu city, Fukushima  ', 'Mid to late April')\n",
      "(12, 'HOKKAIDO/TOHOKU Cherry Blossom Spots', 'Kasumigajo Park', '3-232 Kakunai, Nihonmatsu city, Fukushima  ', 'Mid April to early May')\n",
      "(13, 'HOKKAIDO/TOHOKU Cherry Blossom Spots', 'Yonomori Park', 'Mishima Machi, haramati-ku, machiminamisouma-shi, Fukushima  ', 'Mid to late April')\n",
      "(14, 'KANTO Cherry Blossom Spots', 'Kamine Park/ Heiwa street', 'Hitachi-shi Ibaraki  ', 'Early to mid April')\n",
      "(15, 'KANTO Cherry Blossom Spots', 'Fukuokaseki', 'kitayama Tsukubamirai-shi, Ibaraki  ', 'mid-April')\n",
      "(16, 'KANTO Cherry Blossom Spots', 'Akagi South side Senbon-zakura', '2511-2, Naegashimamachi, Maebashi-shi, Gumma  ', 'Early to mid April')\n",
      "(17, 'KANTO Cherry Blossom Spots', 'Sakurayama Park', '2166-1 Sanbagawa, Fujioka-shi, Gunma  ', 'Mid November to mid December')\n",
      "(18, 'KANTO Cherry Blossom Spots', 'Sakuranosato', '1258 Kamiosaka Kanra-gun shimonitamachi Gunma  ', 'Mid April to early May')\n",
      "(19, 'KANTO Cherry Blossom Spots', 'Omiya Park', '2, Takahanacho, Omiya-ku Saitama-shi, Saitama  ', 'mid-April')\n",
      "(20, 'KANTO Cherry Blossom Spots', 'Shimizu Park', 'Shimizu 906, Noda-shi, Chiba  ', 'Early to mid April')\n",
      "(21, 'KANTO Cherry Blossom Spots', 'Mobara Park', '1345-1 Takashi, Mobara 297-0029, Chiba Prefecture  ', 'Early to mid April')\n",
      "(22, 'KANTO Cherry Blossom Spots', 'Kobayashi Ranch', '2886-1 Kobayashi Inzai-shi Chiba  ', 'Early to mid April')\n",
      "(23, 'KANTO Cherry Blossom Spots', 'Ueno Onsi Park', '5-20, Uenokoen, Taito-ku, Tokyo  ', 'Late March to early April')\n",
      "(24, 'KANTO Cherry Blossom Spots', 'Chidorigafuchi Walkway', '1-1,kitanomarupark,Chiyoda-ku, Tokyo  ', 'Early April')\n",
      "(25, 'KANTO Cherry Blossom Spots', 'Odawara Castle Park/ Joyama Park', '6, Jonai, Odawara-shi, Kanagawa  ', 'Late March to early April')\n",
      "(26, 'KANTO Cherry Blossom Spots', 'Prefectural Mitsuike Park', '1-1 Mitsuike Park, turumi-ku Yokohama-shi, Kanagawa  ', 'Early April')\n",
      "(27, 'CHUBU Cherry Blossom Spots', 'Takada Park', '44-1 motoshiromachi joetsu-shi, Niigata  ', 'mid-April')\n",
      "(28, 'CHUBU Cherry Blossom Spots', 'Matsukawa Park', '1, honmaru, Toyama-shi, Toyama  ', 'mid-April')\n",
      "(29, 'CHUBU Cherry Blossom Spots', 'Takaoka Castle Park', '1-9 Kojo Takaoka-shi Toyama  ', 'mid-April')\n",
      "(30, 'CHUBU Cherry Blossom Spots', 'Kenrokuen Garden', 'Kenrokumachi Kanazawa-shi Ishikawa  ', 'Mid to late April')\n",
      "(31, 'CHUBU Cherry Blossom Spots', 'Noto Sakura Station', 'Sobuku Anamizu-machi, Hosu-gun Ishikawa  ', 'Mid to late April')\n",
      "(32, 'CHUBU Cherry Blossom Spots', 'Asukawa Cherry Blossom View / Asuzan Park', 'Yaraku-cho Fukui-shi Fukui  ', 'mid-April')\n",
      "(33, 'CHUBU Cherry Blossom Spots', 'Kasumigajo Park', '1-59, Maruokacho Imaichi, Sakai-shi, Fukui  ', 'Early to mid April')\n",
      "(34, 'CHUBU Cherry Blossom Spots', 'Komoro Castle Ruins(Kaiko-en Garden)', '311, Tei, Komoro-shi, Nagano  ', 'Mid to late April')\n",
      "(35, 'CHUBU Cherry Blossom Spots', 'Takato Castle Ruins Park', 'Takatomachi Higashitakato, Ina-shi, Nagano  ', 'Mid to late April')\n",
      "(36, 'CHUBU Cherry Blossom Spots', 'Wolong Park', '2-4-8, Garyu, Suzaka-shi, Nagano  ', 'Mid to late April')\n",
      "(37, 'CHUBU Cherry Blossom Spots', 'Ueda Castle Ruins Park', 'Ninomaru, Ueda-shi, Nagano  ', 'mid-April')\n",
      "(38, 'CHUBU Cherry Blossom Spots', 'Onishi Park', '4340 Okawara, Oshika-mura Shimoina-gun, Nagano  ', 'Mid to late April')\n",
      "(39, 'CHUBU Cherry Blossom Spots', 'Neodani/Usuzumi Park', 'Neo Imamura, Motosu-shi, Gifu  ', 'mid-April')\n",
      "(40, 'CHUBU Cherry Blossom Spots', 'Sakuranosato', 'Ito-shi Shizuoka  ', 'Mid March to mid April')\n",
      "(41, 'CHUBU Cherry Blossom Spots', 'Okazaki Park', '561, Koseicho, Okazaki-shi, Aichi  ', 'Early April')\n",
      "(42, 'CHUBU Cherry Blossom Spots', 'Gojougawa Riverside', 'horiosek,oguchi-cho, iniwa-gun, Aichi  ', 'Late March to early April')\n",
      "(43, 'CHUBU Cherry Blossom Spots', 'Cherry blossoms of the Kiso River Tsutsumi', 'asaityou, itinomiya-shi, Aichi  ', 'Late March to early April')\n",
      "(44, 'CHUBU Cherry Blossom Spots', 'Kimigano damu Park/Mitake', 'Tsu-shi Mie  ', 'Early April to late April')\n",
      "(45, 'CHUBU Cherry Blossom Spots', 'Cherry blossoms of Miyagawa', 'miyagawa isesi-shi, Mie  ', 'Late March to early April')\n",
      "(46, 'CHUBU Cherry Blossom Spots', 'Tsukairaku Park', '147-1, Komeicho, Tsu-shi, Mie  ', 'mid-April')\n",
      "(47, 'KINKI Cherry Blossom Spots', 'Kaizu Osaki', 'Kaizu, Makino-cho, Takashima City, Shiga  ', 'Early to mid April')\n",
      "(48, 'KINKI Cherry Blossom Spots', 'Ho Park', '1325, Koencho, Nagahama-shi, Shiga  ', 'Early to mid April')\n",
      "(49, 'KINKI Cherry Blossom Spots', 'Hikone castle', '1-1 Konki-cho, Hikone-shi, Shiga  ', 'Early to mid April')\n",
      "(50, 'KINKI Cherry Blossom Spots', 'Arashiyama', 'Arashiyama-Higashi-Ichikawa-Cho, Nisikyo-ku, Kyoto City, Kyoto  ', 'Early to mid April')\n",
      "(51, 'KINKI Cherry Blossom Spots', 'Ninna-ji', '33, Omuro-ouchi, Ukyo-ku, Kyoto-shi, Kyoto  ', 'mid-April')\n",
      "(52, 'KINKI Cherry Blossom Spots', 'Daigo-ji', '22 Higashi-Oji-cho, Fushimi-ku, Kyoto-shi, Kyoto  ', 'Early to mid April')\n",
      "(53, 'KINKI Cherry Blossom Spots', 'Osaka Castle Park', 'Osakajo, Chuo-ku Osaka-shi, Osaka  ', 'Early April')\n",
      "(54, 'KINKI Cherry Blossom Spots', 'Osaka Mint Bureau', '1-1-79 Tenma, Kita-ku, Osaka City, Osaka  ', 'mid-April')\n",
      "(55, 'KINKI Cherry Blossom Spots', 'Himeji Castle', '68 Honmachi, Himeji-shi, Hyogo  ', 'Early to mid April')\n",
      "(56, 'KINKI Cherry Blossom Spots', 'Akashi park', '1-27, Akashikoen, Akashi-shi, Hyogo  ', 'Early to mid April')\n",
      "(57, 'KINKI Cherry Blossom Spots', 'Shukugawa Park/Shukugawa Riverside walkway', '2-28 Matsushitacho, Nishinomiya, Hyogo  ', 'Early April')\n",
      "(58, 'KINKI Cherry Blossom Spots', 'Shinoyama Castle Ruins', 'Kitashimmachi, Sasayama-shi, Hyogo,  ', 'Early to mid April')\n",
      "(59, 'KINKI Cherry Blossom Spots', 'Nara Park', 'zousityou Nara-shi Nara  ', 'Late May to late April')\n",
      "(60, 'KINKI Cherry Blossom Spots', 'yoshinoyama', 'Yoshino-cho Yoshino-gun Nara  ', 'Early April to late April')\n",
      "(61, 'KINKI Cherry Blossom Spots', 'Negoriji', '2286, Negoro, Iwade-shi, Wakayama  ', 'Late May to mid April')\n",
      "(62, 'KINKI Cherry Blossom Spots', 'Kimiider', '1201, Kimiidera, Wakayama-shi, Wakayama  ', 'Early to mid April')\n",
      "(63, 'KINKI Cherry Blossom Spots', 'Shichikawa Dam lakeside', 'Sada, Kozagawa-cho Higashimuro-gun, Wakayama  ', 'Late March to early April')\n",
      "(64, 'CHUGOKU/SHIKOKU Cherry Blossom Spots', 'Kyusyou Park', '2, Higasicho, Tottori-shi, Tottori  ', 'Early to mid April')\n",
      "(65, 'CHUGOKU/SHIKOKU Cherry Blossom Spots', 'Utsubuki Park', 'Nakanocho, Kurayoshi-shi, Tottori  ', 'Early to mid April')\n",
      "(66, 'CHUGOKU/SHIKOKU Cherry Blossom Spots', 'Matsue Castle Park', '1-5, Tonomachi, Matsue-shi, Shimane  ', 'Early to mid April')\n",
      "(67, 'CHUGOKU/SHIKOKU Cherry Blossom Spots', 'Hii River embankment cherry blossom row tree', 'Kisukicho Kisuki, Unnan-shi, Shimane  ', 'Early to mid April')\n",
      "(68, 'CHUGOKU/SHIKOKU Cherry Blossom Spots', 'Tsuruyama Park (Tsuyama Castle Ruins)', '135 Sange, Tsuyama-shi, Okayama  ', 'Early to mid April')\n",
      "(69, 'CHUGOKU/SHIKOKU Cherry Blossom Spots', 'Senkoji Park', '19, Nishitsuchidocho, Onomichi-shi, Hiroshima  ', 'Early to mid April')\n",
      "(70, 'CHUGOKU/SHIKOKU Cherry Blossom Spots', 'Shobara Ueno Park', '1 Higashihonmachi, Shobara city, Hiroshima  ', 'mid-April')\n",
      "(71, 'CHUGOKU/SHIKOKU Cherry Blossom Spots', 'Hijiyama Park', 'Hijiyamacho, Minami-ku Hiroshima-shi, Hiroshima  ', 'Early to mid April')\n",
      "(72, 'CHUGOKU/SHIKOKU Cherry Blossom Spots', 'Ozekiyama Park', 'Miyoshimachi, Miyoshi-shi, Hiroshima  ', 'Early to mid April')\n",
      "(73, 'CHUGOKU/SHIKOKU Cherry Blossom Spots', 'Kintaikyou Bridge/Kikko Park', 'Yokoyama, Iwakuni-shi, Yamaguchi  ', 'Early to mid April')\n",
      "(74, 'CHUGOKU/SHIKOKU Cherry Blossom Spots', 'Kikaku Park', 'Nagaomyo, Sanuki-shi, Kagawa  ', 'Early to mid April')\n",
      "(75, 'CHUGOKU/SHIKOKU Cherry Blossom Spots', 'Shiroyama Park', '1, Marunochi, Matsuyama-shi, Ehime  ', 'Early April')\n",
      "(76, 'CHUGOKU/SHIKOKU Cherry Blossom Spots', 'Makino Park', 'Sagawa-cho Takaoka-gun Kochi  ', 'Late March to early April')\n",
      "(77, 'KYUSHU/OKINAWA Cherry Blossom Spots', 'Nishi Park', 'Fukuoka-shi Fukuoka  ', 'Late March to early April')\n",
      "(78, 'KYUSHU/OKINAWA Cherry Blossom Spots', 'Akizuki Sugi-no-baba Street', '649-1, Akizukinotori, Asakura-shi, Fukuoka  ', 'Late March to early April')\n",
      "(79, 'KYUSHU/OKINAWA Cherry Blossom Spots', 'Ogi Park', '185-1, Ogimachi, Ogi-shi, Saga  ', 'Late March to early April')\n",
      "(80, 'KYUSHU/OKINAWA Cherry Blossom Spots', 'Omura Park', '1-43, Kushima, Omura-shi, Nagasaki  ', 'Late May to mid April')\n",
      "(81, 'KYUSHU/OKINAWA Cherry Blossom Spots', 'Mayuyama chisa kinen Park', '3-5643-7, Uenohara, Shimabara-shi, Nagasaki  ', 'Late March to early April')\n",
      "(82, 'KYUSHU/OKINAWA Cherry Blossom Spots', 'Kumamoto Castle', 'Honmaru, Kumamoto-shi, Kumamoto  ', 'Late March to early April')\n",
      "(83, 'KYUSHU/OKINAWA Cherry Blossom Spots', 'Lakeside of Ichifusa Dam', 'Yuyama, Mizukami-mura Kuma-gun, Kumamoto,  ', 'Late March to early April')\n",
      "(84, 'KYUSHU/OKINAWA Cherry Blossom Spots', 'Kikuchi Park', 'Waifu, Kikuchi-shi, Kumamoto  ', 'Late March to early April')\n",
      "(85, 'KYUSHU/OKINAWA Cherry Blossom Spots', 'Oka castle', 'Taketa, Taketa-shi, Oita  ', 'Early April')\n",
      "(86, 'KYUSHU/OKINAWA Cherry Blossom Spots', 'Mochio Park', 'Yokoichicho, Miyakonojo-shi, Miyazaki  ', 'Late March to early April')\n",
      "(87, 'KYUSHU/OKINAWA Cherry Blossom Spots', 'Hanatate Park', '2784, Kitagocho Gonohara, Nichinan-shi, Miyazaki,  ', 'Late March to early April')\n",
      "(88, 'KYUSHU/OKINAWA Cherry Blossom Spots', 'Tadamoto Park', '2484-193, Okuchi Harada, Isa-shi, Kagoshima  ', 'Early April')\n",
      "(89, 'KYUSHU/OKINAWA Cherry Blossom Spots', 'Kokubu Shiroyama Park', '3819, Kokubu Kamikogawa, Kirishima-shi, Kagoshima  ', 'Late March to early April')\n",
      "(91, 'tokyo', 'tokyo', 'tokyo', 'may')\n"
     ]
    }
   ],
   "source": [
    "result = db.engine.execute('select * from sites')\n",
    "for i in result:\n",
    "    print(i)\n"
   ]
  },
  {
   "cell_type": "code",
   "execution_count": 4,
   "metadata": {},
   "outputs": [
    {
     "name": "stdout",
     "output_type": "stream",
     "text": [
      "[{'tripID': 1, 'name': 'HOKKAIDO Cherry Blossom Spots', 'site': 'Matsumae Park', 'address': 'Matsushiro, Matsumae-cho, Hokkaido', 'timeperiod': 'Early to mid May'}, {'tripID': 2, 'name': 'HOKKAIDO/TOHOKU Cherry Blossom Spots', 'site': 'Goryokaku Park', 'address': '44 Goryokaku-cho, Hakodate-shi, Hokkaido ', 'timeperiod': 'Early May'}, {'tripID': 3, 'name': 'HOKKAIDO/TOHOKU Cherry Blossom Spots', 'site': 'Hirosaki Park', 'address': '1 Shimoshirogane-cho, Hirosaki-shi, Aomori  ', 'timeperiod': 'Late April to early May'}, {'tripID': 4, 'name': 'HOKKAIDO/TOHOKU Cherry Blossom Spots', 'site': 'Prefectural Natural Park group Ashino Pond', 'address': 'Goshogawara-shi Aomori, Hirosaki-shi Aomori  ', 'timeperiod': 'Late April to early May'}, {'tripID': 5, 'name': 'HOKKAIDO/TOHOKU Cherry Blossom Spots', 'site': 'Tateno Park', 'address': 'Inuotose, Rokunohe-machi Kamikita-gun ', 'timeperiod': 'Late April to early May'}, {'tripID': 6, 'name': 'HOKKAIDO/TOHOKU Cherry Blossom Spots', 'site': 'Iwate Park/Takamatsu Park', 'address': '1-26-1, Takamatsu, Morioka-shi, Iwate  ', 'timeperiod': 'Late April'}, {'tripID': 7, 'name': 'HOKKAIDO/TOHOKU Cherry Blossom Spots', 'site': 'Kitakami Tenshochi', 'address': 'Tachibana, Kitakami-shi, Iwate,  ', 'timeperiod': 'Late April'}, {'tripID': 8, 'name': 'HOKKAIDO/TOHOKU Cherry Blossom Spots', 'site': 'Shiroishi Castle', 'address': '1-16 Masuoka-cho, Shiroishi-shi, Miyagi  ', 'timeperiod': 'Mid to late April'}, {'tripID': 9, 'name': 'HOKKAIDO/TOHOKU Cherry Blossom Spots', 'site': 'Tsuruoka Park', 'address': 'Babacho, Tsuruoka-shi, Yamagata  ', 'timeperiod': 'mid-April'}, {'tripID': 10, 'name': 'HOKKAIDO/TOHOKU Cherry Blossom Spots', 'site': 'Eboshi Hill Park', 'address': 'Akayu, Nanyo-shi, Yamagata  ', 'timeperiod': 'Late April'}, {'tripID': 11, 'name': 'HOKKAIDO/TOHOKU Cherry Blossom Spots', 'site': 'Tsurugajo Park', 'address': '1-1 Outemachi, Aizuwakamatsu city, Fukushima  ', 'timeperiod': 'Mid to late April'}, {'tripID': 12, 'name': 'HOKKAIDO/TOHOKU Cherry Blossom Spots', 'site': 'Kasumigajo Park', 'address': '3-232 Kakunai, Nihonmatsu city, Fukushima  ', 'timeperiod': 'Mid April to early May'}, {'tripID': 13, 'name': 'HOKKAIDO/TOHOKU Cherry Blossom Spots', 'site': 'Yonomori Park', 'address': 'Mishima Machi, haramati-ku, machiminamisouma-shi, Fukushima  ', 'timeperiod': 'Mid to late April'}, {'tripID': 14, 'name': 'KANTO Cherry Blossom Spots', 'site': 'Kamine Park/ Heiwa street', 'address': 'Hitachi-shi Ibaraki  ', 'timeperiod': 'Early to mid April'}, {'tripID': 15, 'name': 'KANTO Cherry Blossom Spots', 'site': 'Fukuokaseki', 'address': 'kitayama Tsukubamirai-shi, Ibaraki  ', 'timeperiod': 'mid-April'}, {'tripID': 16, 'name': 'KANTO Cherry Blossom Spots', 'site': 'Akagi South side Senbon-zakura', 'address': '2511-2, Naegashimamachi, Maebashi-shi, Gumma  ', 'timeperiod': 'Early to mid April'}, {'tripID': 17, 'name': 'KANTO Cherry Blossom Spots', 'site': 'Sakurayama Park', 'address': '2166-1 Sanbagawa, Fujioka-shi, Gunma  ', 'timeperiod': 'Mid November to mid December'}, {'tripID': 18, 'name': 'KANTO Cherry Blossom Spots', 'site': 'Sakuranosato', 'address': '1258 Kamiosaka Kanra-gun shimonitamachi Gunma  ', 'timeperiod': 'Mid April to early May'}, {'tripID': 19, 'name': 'KANTO Cherry Blossom Spots', 'site': 'Omiya Park', 'address': '2, Takahanacho, Omiya-ku Saitama-shi, Saitama  ', 'timeperiod': 'mid-April'}, {'tripID': 20, 'name': 'KANTO Cherry Blossom Spots', 'site': 'Shimizu Park', 'address': 'Shimizu 906, Noda-shi, Chiba  ', 'timeperiod': 'Early to mid April'}, {'tripID': 21, 'name': 'KANTO Cherry Blossom Spots', 'site': 'Mobara Park', 'address': '1345-1 Takashi, Mobara 297-0029, Chiba Prefecture  ', 'timeperiod': 'Early to mid April'}, {'tripID': 22, 'name': 'KANTO Cherry Blossom Spots', 'site': 'Kobayashi Ranch', 'address': '2886-1 Kobayashi Inzai-shi Chiba  ', 'timeperiod': 'Early to mid April'}, {'tripID': 23, 'name': 'KANTO Cherry Blossom Spots', 'site': 'Ueno Onsi Park', 'address': '5-20, Uenokoen, Taito-ku, Tokyo  ', 'timeperiod': 'Late March to early April'}, {'tripID': 24, 'name': 'KANTO Cherry Blossom Spots', 'site': 'Chidorigafuchi Walkway', 'address': '1-1,kitanomarupark,Chiyoda-ku, Tokyo  ', 'timeperiod': 'Early April'}, {'tripID': 25, 'name': 'KANTO Cherry Blossom Spots', 'site': 'Odawara Castle Park/ Joyama Park', 'address': '6, Jonai, Odawara-shi, Kanagawa  ', 'timeperiod': 'Late March to early April'}, {'tripID': 26, 'name': 'KANTO Cherry Blossom Spots', 'site': 'Prefectural Mitsuike Park', 'address': '1-1 Mitsuike Park, turumi-ku Yokohama-shi, Kanagawa  ', 'timeperiod': 'Early April'}, {'tripID': 27, 'name': 'CHUBU Cherry Blossom Spots', 'site': 'Takada Park', 'address': '44-1 motoshiromachi joetsu-shi, Niigata  ', 'timeperiod': 'mid-April'}, {'tripID': 28, 'name': 'CHUBU Cherry Blossom Spots', 'site': 'Matsukawa Park', 'address': '1, honmaru, Toyama-shi, Toyama  ', 'timeperiod': 'mid-April'}, {'tripID': 29, 'name': 'CHUBU Cherry Blossom Spots', 'site': 'Takaoka Castle Park', 'address': '1-9 Kojo Takaoka-shi Toyama  ', 'timeperiod': 'mid-April'}, {'tripID': 30, 'name': 'CHUBU Cherry Blossom Spots', 'site': 'Kenrokuen Garden', 'address': 'Kenrokumachi Kanazawa-shi Ishikawa  ', 'timeperiod': 'Mid to late April'}, {'tripID': 31, 'name': 'CHUBU Cherry Blossom Spots', 'site': 'Noto Sakura Station', 'address': 'Sobuku Anamizu-machi, Hosu-gun Ishikawa  ', 'timeperiod': 'Mid to late April'}, {'tripID': 32, 'name': 'CHUBU Cherry Blossom Spots', 'site': 'Asukawa Cherry Blossom View / Asuzan Park', 'address': 'Yaraku-cho Fukui-shi Fukui  ', 'timeperiod': 'mid-April'}, {'tripID': 33, 'name': 'CHUBU Cherry Blossom Spots', 'site': 'Kasumigajo Park', 'address': '1-59, Maruokacho Imaichi, Sakai-shi, Fukui  ', 'timeperiod': 'Early to mid April'}, {'tripID': 34, 'name': 'CHUBU Cherry Blossom Spots', 'site': 'Komoro Castle Ruins(Kaiko-en Garden)', 'address': '311, Tei, Komoro-shi, Nagano  ', 'timeperiod': 'Mid to late April'}, {'tripID': 35, 'name': 'CHUBU Cherry Blossom Spots', 'site': 'Takato Castle Ruins Park', 'address': 'Takatomachi Higashitakato, Ina-shi, Nagano  ', 'timeperiod': 'Mid to late April'}, {'tripID': 36, 'name': 'CHUBU Cherry Blossom Spots', 'site': 'Wolong Park', 'address': '2-4-8, Garyu, Suzaka-shi, Nagano  ', 'timeperiod': 'Mid to late April'}, {'tripID': 37, 'name': 'CHUBU Cherry Blossom Spots', 'site': 'Ueda Castle Ruins Park', 'address': 'Ninomaru, Ueda-shi, Nagano  ', 'timeperiod': 'mid-April'}, {'tripID': 38, 'name': 'CHUBU Cherry Blossom Spots', 'site': 'Onishi Park', 'address': '4340 Okawara, Oshika-mura Shimoina-gun, Nagano  ', 'timeperiod': 'Mid to late April'}, {'tripID': 39, 'name': 'CHUBU Cherry Blossom Spots', 'site': 'Neodani/Usuzumi Park', 'address': 'Neo Imamura, Motosu-shi, Gifu  ', 'timeperiod': 'mid-April'}, {'tripID': 40, 'name': 'CHUBU Cherry Blossom Spots', 'site': 'Sakuranosato', 'address': 'Ito-shi Shizuoka  ', 'timeperiod': 'Mid March to mid April'}, {'tripID': 41, 'name': 'CHUBU Cherry Blossom Spots', 'site': 'Okazaki Park', 'address': '561, Koseicho, Okazaki-shi, Aichi  ', 'timeperiod': 'Early April'}, {'tripID': 42, 'name': 'CHUBU Cherry Blossom Spots', 'site': 'Gojougawa Riverside', 'address': 'horiosek,oguchi-cho, iniwa-gun, Aichi  ', 'timeperiod': 'Late March to early April'}, {'tripID': 43, 'name': 'CHUBU Cherry Blossom Spots', 'site': 'Cherry blossoms of the Kiso River Tsutsumi', 'address': 'asaityou, itinomiya-shi, Aichi  ', 'timeperiod': 'Late March to early April'}, {'tripID': 44, 'name': 'CHUBU Cherry Blossom Spots', 'site': 'Kimigano damu Park/Mitake', 'address': 'Tsu-shi Mie  ', 'timeperiod': 'Early April to late April'}, {'tripID': 45, 'name': 'CHUBU Cherry Blossom Spots', 'site': 'Cherry blossoms of Miyagawa', 'address': 'miyagawa isesi-shi, Mie  ', 'timeperiod': 'Late March to early April'}, {'tripID': 46, 'name': 'CHUBU Cherry Blossom Spots', 'site': 'Tsukairaku Park', 'address': '147-1, Komeicho, Tsu-shi, Mie  ', 'timeperiod': 'mid-April'}, {'tripID': 47, 'name': 'KINKI Cherry Blossom Spots', 'site': 'Kaizu Osaki', 'address': 'Kaizu, Makino-cho, Takashima City, Shiga  ', 'timeperiod': 'Early to mid April'}, {'tripID': 48, 'name': 'KINKI Cherry Blossom Spots', 'site': 'Ho Park', 'address': '1325, Koencho, Nagahama-shi, Shiga  ', 'timeperiod': 'Early to mid April'}, {'tripID': 49, 'name': 'KINKI Cherry Blossom Spots', 'site': 'Hikone castle', 'address': '1-1 Konki-cho, Hikone-shi, Shiga  ', 'timeperiod': 'Early to mid April'}, {'tripID': 50, 'name': 'KINKI Cherry Blossom Spots', 'site': 'Arashiyama', 'address': 'Arashiyama-Higashi-Ichikawa-Cho, Nisikyo-ku, Kyoto City, Kyoto  ', 'timeperiod': 'Early to mid April'}, {'tripID': 51, 'name': 'KINKI Cherry Blossom Spots', 'site': 'Ninna-ji', 'address': '33, Omuro-ouchi, Ukyo-ku, Kyoto-shi, Kyoto  ', 'timeperiod': 'mid-April'}, {'tripID': 52, 'name': 'KINKI Cherry Blossom Spots', 'site': 'Daigo-ji', 'address': '22 Higashi-Oji-cho, Fushimi-ku, Kyoto-shi, Kyoto  ', 'timeperiod': 'Early to mid April'}, {'tripID': 53, 'name': 'KINKI Cherry Blossom Spots', 'site': 'Osaka Castle Park', 'address': 'Osakajo, Chuo-ku Osaka-shi, Osaka  ', 'timeperiod': 'Early April'}, {'tripID': 54, 'name': 'KINKI Cherry Blossom Spots', 'site': 'Osaka Mint Bureau', 'address': '1-1-79 Tenma, Kita-ku, Osaka City, Osaka  ', 'timeperiod': 'mid-April'}, {'tripID': 55, 'name': 'KINKI Cherry Blossom Spots', 'site': 'Himeji Castle', 'address': '68 Honmachi, Himeji-shi, Hyogo  ', 'timeperiod': 'Early to mid April'}, {'tripID': 56, 'name': 'KINKI Cherry Blossom Spots', 'site': 'Akashi park', 'address': '1-27, Akashikoen, Akashi-shi, Hyogo  ', 'timeperiod': 'Early to mid April'}, {'tripID': 57, 'name': 'KINKI Cherry Blossom Spots', 'site': 'Shukugawa Park/Shukugawa Riverside walkway', 'address': '2-28 Matsushitacho, Nishinomiya, Hyogo  ', 'timeperiod': 'Early April'}, {'tripID': 58, 'name': 'KINKI Cherry Blossom Spots', 'site': 'Shinoyama Castle Ruins', 'address': 'Kitashimmachi, Sasayama-shi, Hyogo,  ', 'timeperiod': 'Early to mid April'}, {'tripID': 59, 'name': 'KINKI Cherry Blossom Spots', 'site': 'Nara Park', 'address': 'zousityou Nara-shi Nara  ', 'timeperiod': 'Late May to late April'}, {'tripID': 60, 'name': 'KINKI Cherry Blossom Spots', 'site': 'yoshinoyama', 'address': 'Yoshino-cho Yoshino-gun Nara  ', 'timeperiod': 'Early April to late April'}, {'tripID': 61, 'name': 'KINKI Cherry Blossom Spots', 'site': 'Negoriji', 'address': '2286, Negoro, Iwade-shi, Wakayama  ', 'timeperiod': 'Late May to mid April'}, {'tripID': 62, 'name': 'KINKI Cherry Blossom Spots', 'site': 'Kimiider', 'address': '1201, Kimiidera, Wakayama-shi, Wakayama  ', 'timeperiod': 'Early to mid April'}, {'tripID': 63, 'name': 'KINKI Cherry Blossom Spots', 'site': 'Shichikawa Dam lakeside', 'address': 'Sada, Kozagawa-cho Higashimuro-gun, Wakayama  ', 'timeperiod': 'Late March to early April'}, {'tripID': 64, 'name': 'CHUGOKU/SHIKOKU Cherry Blossom Spots', 'site': 'Kyusyou Park', 'address': '2, Higasicho, Tottori-shi, Tottori  ', 'timeperiod': 'Early to mid April'}, {'tripID': 65, 'name': 'CHUGOKU/SHIKOKU Cherry Blossom Spots', 'site': 'Utsubuki Park', 'address': 'Nakanocho, Kurayoshi-shi, Tottori  ', 'timeperiod': 'Early to mid April'}, {'tripID': 66, 'name': 'CHUGOKU/SHIKOKU Cherry Blossom Spots', 'site': 'Matsue Castle Park', 'address': '1-5, Tonomachi, Matsue-shi, Shimane  ', 'timeperiod': 'Early to mid April'}, {'tripID': 67, 'name': 'CHUGOKU/SHIKOKU Cherry Blossom Spots', 'site': 'Hii River embankment cherry blossom row tree', 'address': 'Kisukicho Kisuki, Unnan-shi, Shimane  ', 'timeperiod': 'Early to mid April'}, {'tripID': 68, 'name': 'CHUGOKU/SHIKOKU Cherry Blossom Spots', 'site': 'Tsuruyama Park (Tsuyama Castle Ruins)', 'address': '135 Sange, Tsuyama-shi, Okayama  ', 'timeperiod': 'Early to mid April'}, {'tripID': 69, 'name': 'CHUGOKU/SHIKOKU Cherry Blossom Spots', 'site': 'Senkoji Park', 'address': '19, Nishitsuchidocho, Onomichi-shi, Hiroshima  ', 'timeperiod': 'Early to mid April'}, {'tripID': 70, 'name': 'CHUGOKU/SHIKOKU Cherry Blossom Spots', 'site': 'Shobara Ueno Park', 'address': '1 Higashihonmachi, Shobara city, Hiroshima  ', 'timeperiod': 'mid-April'}, {'tripID': 71, 'name': 'CHUGOKU/SHIKOKU Cherry Blossom Spots', 'site': 'Hijiyama Park', 'address': 'Hijiyamacho, Minami-ku Hiroshima-shi, Hiroshima  ', 'timeperiod': 'Early to mid April'}, {'tripID': 72, 'name': 'CHUGOKU/SHIKOKU Cherry Blossom Spots', 'site': 'Ozekiyama Park', 'address': 'Miyoshimachi, Miyoshi-shi, Hiroshima  ', 'timeperiod': 'Early to mid April'}, {'tripID': 73, 'name': 'CHUGOKU/SHIKOKU Cherry Blossom Spots', 'site': 'Kintaikyou Bridge/Kikko Park', 'address': 'Yokoyama, Iwakuni-shi, Yamaguchi  ', 'timeperiod': 'Early to mid April'}, {'tripID': 74, 'name': 'CHUGOKU/SHIKOKU Cherry Blossom Spots', 'site': 'Kikaku Park', 'address': 'Nagaomyo, Sanuki-shi, Kagawa  ', 'timeperiod': 'Early to mid April'}, {'tripID': 75, 'name': 'CHUGOKU/SHIKOKU Cherry Blossom Spots', 'site': 'Shiroyama Park', 'address': '1, Marunochi, Matsuyama-shi, Ehime  ', 'timeperiod': 'Early April'}, {'tripID': 76, 'name': 'CHUGOKU/SHIKOKU Cherry Blossom Spots', 'site': 'Makino Park', 'address': 'Sagawa-cho Takaoka-gun Kochi  ', 'timeperiod': 'Late March to early April'}, {'tripID': 77, 'name': 'KYUSHU/OKINAWA Cherry Blossom Spots', 'site': 'Nishi Park', 'address': 'Fukuoka-shi Fukuoka  ', 'timeperiod': 'Late March to early April'}, {'tripID': 78, 'name': 'KYUSHU/OKINAWA Cherry Blossom Spots', 'site': 'Akizuki Sugi-no-baba Street', 'address': '649-1, Akizukinotori, Asakura-shi, Fukuoka  ', 'timeperiod': 'Late March to early April'}, {'tripID': 79, 'name': 'KYUSHU/OKINAWA Cherry Blossom Spots', 'site': 'Ogi Park', 'address': '185-1, Ogimachi, Ogi-shi, Saga  ', 'timeperiod': 'Late March to early April'}, {'tripID': 80, 'name': 'KYUSHU/OKINAWA Cherry Blossom Spots', 'site': 'Omura Park', 'address': '1-43, Kushima, Omura-shi, Nagasaki  ', 'timeperiod': 'Late May to mid April'}, {'tripID': 81, 'name': 'KYUSHU/OKINAWA Cherry Blossom Spots', 'site': 'Mayuyama chisa kinen Park', 'address': '3-5643-7, Uenohara, Shimabara-shi, Nagasaki  ', 'timeperiod': 'Late March to early April'}, {'tripID': 82, 'name': 'KYUSHU/OKINAWA Cherry Blossom Spots', 'site': 'Kumamoto Castle', 'address': 'Honmaru, Kumamoto-shi, Kumamoto  ', 'timeperiod': 'Late March to early April'}, {'tripID': 83, 'name': 'KYUSHU/OKINAWA Cherry Blossom Spots', 'site': 'Lakeside of Ichifusa Dam', 'address': 'Yuyama, Mizukami-mura Kuma-gun, Kumamoto,  ', 'timeperiod': 'Late March to early April'}, {'tripID': 84, 'name': 'KYUSHU/OKINAWA Cherry Blossom Spots', 'site': 'Kikuchi Park', 'address': 'Waifu, Kikuchi-shi, Kumamoto  ', 'timeperiod': 'Late March to early April'}, {'tripID': 85, 'name': 'KYUSHU/OKINAWA Cherry Blossom Spots', 'site': 'Oka castle', 'address': 'Taketa, Taketa-shi, Oita  ', 'timeperiod': 'Early April'}, {'tripID': 86, 'name': 'KYUSHU/OKINAWA Cherry Blossom Spots', 'site': 'Mochio Park', 'address': 'Yokoichicho, Miyakonojo-shi, Miyazaki  ', 'timeperiod': 'Late March to early April'}, {'tripID': 87, 'name': 'KYUSHU/OKINAWA Cherry Blossom Spots', 'site': 'Hanatate Park', 'address': '2784, Kitagocho Gonohara, Nichinan-shi, Miyazaki,  ', 'timeperiod': 'Late March to early April'}, {'tripID': 88, 'name': 'KYUSHU/OKINAWA Cherry Blossom Spots', 'site': 'Tadamoto Park', 'address': '2484-193, Okuchi Harada, Isa-shi, Kagoshima  ', 'timeperiod': 'Early April'}, {'tripID': 89, 'name': 'KYUSHU/OKINAWA Cherry Blossom Spots', 'site': 'Kokubu Shiroyama Park', 'address': '3819, Kokubu Kamikogawa, Kirishima-shi, Kagoshima  ', 'timeperiod': 'Late March to early April'}, {'tripID': 91, 'name': 'tokyo', 'site': 'tokyo', 'address': 'tokyo', 'timeperiod': 'may'}]\n"
     ]
    }
   ],
   "source": [
    "result = db.engine.execute('select * from sites')\n",
    "final_result = [list(i) for i in result]\n",
    "dataset=[]\n",
    "dict={}\n",
    "for i in final_result:\n",
    "    dict['tripID'] = i[0]\n",
    "    dict['name'] = i[1]\n",
    "    dict['site'] = i[2]\n",
    "    dict['address'] = i[3]\n",
    "    dict['timeperiod'] = i[4]\n",
    "    # print(i)\n",
    "    # print(dict)\n",
    "    dataset.append(dict.copy()) #markers.append(fld.copy())\n",
    "print(dataset)"
   ]
  },
  {
   "cell_type": "code",
   "execution_count": 5,
   "metadata": {},
   "outputs": [],
   "source": [
    "# Update Example\n",
    "tid = 1 \n",
    "sites = Sites.query.filter_by(tripID=tid).first()\n",
    "sites.name = \"HOKKAIDO Cherry Blossom Spots\"\n",
    "db.session.commit()"
   ]
  },
  {
   "cell_type": "code",
   "execution_count": 6,
   "metadata": {},
   "outputs": [],
   "source": [
    "# Insert Example\n",
    "sites = Sites(tripID='90',name='Cherry Blossom Spots',site=\"Tokyo Park\",address=\"Tokyo\",timeperiod=\"March\")\n",
    "db.session.add(sites)\n",
    "db.session.commit()"
   ]
  },
  {
   "cell_type": "code",
   "execution_count": 7,
   "metadata": {},
   "outputs": [],
   "source": [
    "# Delete Example\n",
    "tid = 90\n",
    "sites = Sites.query.filter_by(tripID=tid).first()\n",
    "db.session.delete(sites)\n",
    "db.session.commit()"
   ]
  },
  {
   "cell_type": "code",
   "execution_count": null,
   "metadata": {},
   "outputs": [],
   "source": []
  }
 ],
 "metadata": {
  "kernelspec": {
   "display_name": "Python 3",
   "language": "python",
   "name": "python3"
  },
  "language_info": {
   "codemirror_mode": {
    "name": "ipython",
    "version": 3
   },
   "file_extension": ".py",
   "mimetype": "text/x-python",
   "name": "python",
   "nbconvert_exporter": "python",
   "pygments_lexer": "ipython3",
   "version": "3.7.4"
  }
 },
 "nbformat": 4,
 "nbformat_minor": 2
}
